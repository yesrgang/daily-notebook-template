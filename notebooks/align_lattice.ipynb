{
 "cells": [
  {
   "cell_type": "code",
   "execution_count": null,
   "metadata": {},
   "outputs": [],
   "source": [
    "%matplotlib inline\n",
    "import helpers\n",
    "reload(helpers)\n",
    "from helpers import *"
   ]
  },
  {
   "cell_type": "code",
   "execution_count": null,
   "metadata": {},
   "outputs": [],
   "source": [
    "def plot_scan_slosh_xy(data, camera='Mako2', fig=None, units='ms', axis='y'):\n",
    "    y0 = data[camera]['y0'][1:]\n",
    "    x0 = data[camera]['x0'][1:]\n",
    "    t = data['sequencer']['*Tslosh'][:-1]/unit_factor[units] \n",
    "    \n",
    "    if fig:\n",
    "        ax = fig.get_axes()[0]\n",
    "        bx = fig.get_axes()[1]\n",
    "    else:\n",
    "        fig = plt.figure()\n",
    "        fig.set_size_inches(8, 6)\n",
    "        ax = fig.add_subplot(211)\n",
    "        bx = fig.add_subplot(212)\n",
    "\n",
    "\n",
    "    ax.plot(t, y0, 'o')\n",
    "    ax.set_title('slosh')\n",
    "    ax.set_ylabel('y_0 (pixels)')\n",
    "    ax.set_xlabel('time [{}]'.format(units))\n",
    "    \n",
    "    bx.plot(t, x0, 'o')\n",
    "    bx.set_ylabel('x_0 (pixels)')\n",
    "    bx.set_xlabel('time [{}]'.format(units))\n",
    "    \n",
    "    return fig"
   ]
  },
  {
   "cell_type": "markdown",
   "metadata": {},
   "source": [
    "# H1"
   ]
  },
  {
   "cell_type": "code",
   "execution_count": null,
   "metadata": {},
   "outputs": [],
   "source": [
    "fig = None\n",
    "\n",
    "v_y = []\n",
    "a_y = []\n",
    "v_x = []\n",
    "a_x = []\n",
    "\n",
    "pts = []\n",
    "\n",
    "for run_num in pts:\n",
    "    data = Data('../scan_slosh#{}'.format(run_num), bad_points=[])\n",
    "    \n",
    "    fig = plot_scan_slosh_xy(data, 'Mako2', fig, units='ms')\n",
    "    p = {'a': 20, 'b': 1350, 'phi':1.2, 'f': 0.5}\n",
    "    \n",
    "    # fit to y\n",
    "    ans, err = fit_fig(fig, sine, p,  p_fix=[], do_print=1, show_guess=False)\n",
    "    a_y.append(ans['a'])\n",
    "    v_y.append(np.mean(data['lattice_piezo']['h1y']))\n",
    "    # fit to x\n",
    "    p = {'a': 10, 'b': 850, 'phi':1.3, 'f': 0.0484}\n",
    "    ans, err = fit_fig(fig, sine, p,  p_fix=['phi'], do_print=1, fig_choice = 1, show_guess=False)\n",
    "    a_x.append(ans['a'])\n",
    "    v_x.append(np.mean(data['lattice_piezo']['h1x']))\n",
    "    print 'piezo voltage (Vx, Vy)= ({}, {})'.format(v_x[-1],v_y[-1])"
   ]
  },
  {
   "cell_type": "code",
   "execution_count": null,
   "metadata": {},
   "outputs": [],
   "source": [
    "fig, ax = plt.subplots(2,1)\n",
    "\n",
    "ax[0].plot(v_x, a_x, 'o')\n",
    "ax[1].plot(v_y, a_y, 'o')\n",
    "\n",
    "p = {'a': 100, 'b': 0}\n",
    "ans, err = fit_fig(fig, linear, p, do_print=1, fig_choice=1)\n",
    "\n",
    "print \"Zero at {} steps\".format(-ans['b']/ans['a'])"
   ]
  },
  {
   "cell_type": "markdown",
   "metadata": {},
   "source": [
    "# H2"
   ]
  },
  {
   "cell_type": "code",
   "execution_count": null,
   "metadata": {},
   "outputs": [],
   "source": [
    "fig = None\n",
    "\n",
    "v_y = []\n",
    "a_y = []\n",
    "v_x = []\n",
    "a_x = []\n",
    "\n",
    "pts = [12, 13, 14, 15, 16, 17]\n",
    "\n",
    "\n",
    "for run_num in pts:\n",
    "    data = Data('../scan_slosh#{}'.format(run_num), bad_points=[])\n",
    "    fig = plot_scan_slosh_xy(data, 'Mako2', fig, units='ms')\n",
    "    p = {'a': 50, 'b': 1200, 'phi':1.2, 'f': 0.5}\n",
    "    \n",
    "    # fit to y\n",
    "    ans, err = fit_fig(fig, sine, p,  p_fix=[], do_print=1, show_guess=False)\n",
    "    a_y.append(ans['a'])\n",
    "    v_y.append(np.mean(data['lattice_piezo']['h2y']))\n",
    "    # fit to x\n",
    "    p = {'a': 10, 'b': 880, 'phi':1.3, 'f': 0.042}\n",
    "    ans, err = fit_fig(fig, sine, p,  p_fix=['phi', 'f'], do_print=1, fig_choice = 1, show_guess=False)\n",
    "    a_x.append(ans['a'])\n",
    "    v_x.append(np.mean(data['lattice_piezo']['h2x']))\n",
    "    print 'piezo voltage (Vx, Vy)= ({}, {})'.format(v_x[-1],v_y[-1])\n",
    "    \n",
    "ax = fig.get_axes()[1]\n"
   ]
  },
  {
   "cell_type": "code",
   "execution_count": null,
   "metadata": {},
   "outputs": [],
   "source": [
    "fig, ax = plt.subplots(2,1)\n",
    "\n",
    "ax[0].plot(v_x, a_x, 'o')\n",
    "ax[1].plot(v_y, a_y, 'o')\n",
    "\n",
    "p = {'a': 100, 'b': 0}\n",
    "ans, err = fit_fig(fig, linear, p, do_print=1, fig_choice=1)\n",
    "\n",
    "print \"Zero at {} steps\".format(-ans['b']/ans['a'])"
   ]
  }
 ],
 "metadata": {
  "anaconda-cloud": {},
  "kernelspec": {
   "display_name": "Python 2",
   "language": "python",
   "name": "python2"
  },
  "language_info": {
   "codemirror_mode": {
    "name": "ipython",
    "version": 2
   },
   "file_extension": ".py",
   "mimetype": "text/x-python",
   "name": "python",
   "nbconvert_exporter": "python",
   "pygments_lexer": "ipython2",
   "version": "2.7.9"
  }
 },
 "nbformat": 4,
 "nbformat_minor": 1
}
