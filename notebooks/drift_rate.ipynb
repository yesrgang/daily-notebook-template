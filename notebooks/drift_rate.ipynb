{
 "cells": [
  {
   "cell_type": "code",
   "execution_count": null,
   "metadata": {},
   "outputs": [],
   "source": [
    "%matplotlib inline\n",
    "import helpers\n",
    "reload(helpers)\n",
    "from helpers import *\n",
    "\n",
    "import data_tools.process_drift_rate\n",
    "reload(data_tools.process_drift_rate)\n",
    "from data_tools.process_drift_rate import *"
   ]
  },
  {
   "cell_type": "code",
   "execution_count": null,
   "metadata": {},
   "outputs": [],
   "source": [
    "ZERO_FREQ = 27.848e6 \n",
    "center_shift = -650\n",
    "zeeman_shift = 2357\n",
    "f0 = ZERO_FREQ - center_shift - zeeman_shift\n",
    "\n",
    "def data_set(run_num):\n",
    "    return {\n",
    "        'filename': '../scan_clock#{}'.format(run_num),\n",
    "        'fit_clock_scan': {\n",
    "            'p': {'x0': 0, 'Gamma': 5, 'a': .2, 'b': 0},\n",
    "        }\n",
    "    }\n",
    "\n",
    "run_nums = []\n",
    "data_sets = [data_set(rn) for rn in run_nums]\n",
    "fig = get_drift_rate(f0, data_sets)"
   ]
  },
  {
   "cell_type": "code",
   "execution_count": null,
   "metadata": {},
   "outputs": [],
   "source": [
    "zero_freq = 27.8678e6\n",
    "center_shift = -18\n",
    "zeeman_shift = 264\n",
    "f0 = zero_freq - zeeman_shift - center_shift\n",
    "\n",
    "fig = None\n",
    "\n",
    "camera_args = {\n",
    "    'name': 'andor',\n",
    "    'offset': (534, 192),\n",
    "    'size': (200, 200),\n",
    "    'roi': {\n",
    "        'all': [20, 20, 0, 0],\n",
    "        'center': [10, 10, 0, 0],        \n",
    "        },\n",
    "    'norm': (0, 0, 60, 80),\n",
    "    'pulse_length': 5,\n",
    "    }\n",
    "\n",
    "fit_settings = {\n",
    "    'p': {'a': .2, 'b': 1, 'Gamma': 10, 'x0': 0},\n",
    "    'p_fix': ['b'],\n",
    "    'region': 'center',\n",
    "    }\n",
    "\n",
    "data_sets = {   \n",
    "    '../../20171128/scan_clock#29': {\n",
    "        'camera_args': camera_args,\n",
    "        'fit_settings': fit_settings,\n",
    "        },       \n",
    "    }\n",
    "fig = get_drift_rate_camera(f0, data_sets)"
   ]
  }
 ],
 "metadata": {
  "kernelspec": {
   "display_name": "Python 2",
   "language": "python",
   "name": "python2"
  },
  "language_info": {
   "codemirror_mode": {
    "name": "ipython",
    "version": 2
   },
   "file_extension": ".py",
   "mimetype": "text/x-python",
   "name": "python",
   "nbconvert_exporter": "python",
   "pygments_lexer": "ipython2",
   "version": "2.7.9"
  }
 },
 "nbformat": 4,
 "nbformat_minor": 2
}
